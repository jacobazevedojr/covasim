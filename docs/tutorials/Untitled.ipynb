{
 "cells": [
  {
   "cell_type": "code",
   "execution_count": null,
   "id": "d2b6c7a1",
   "metadata": {},
   "outputs": [],
   "source": [
    "import covasim as cv\n",
    "\n",
    "cv.options(jupyter=True, verbose=0)\n",
    "\n",
    "sim =cv.Sim()\n",
    "sim.run()"
   ]
  },
  {
   "cell_type": "markdown",
   "id": "86eb8aa5",
   "metadata": {},
   "source": [
    "\"3 Levels of details\"\n",
    "sim.brief()\n",
    "sim.summarize\n",
    "sim.disp"
   ]
  }
 ],
 "metadata": {
  "kernelspec": {
   "display_name": "Python 3 (ipykernel)",
   "language": "python",
   "name": "python3"
  },
  "language_info": {
   "codemirror_mode": {
    "name": "ipython",
    "version": 3
   },
   "file_extension": ".py",
   "mimetype": "text/x-python",
   "name": "python",
   "nbconvert_exporter": "python",
   "pygments_lexer": "ipython3",
   "version": "3.9.10"
  }
 },
 "nbformat": 4,
 "nbformat_minor": 5
}
